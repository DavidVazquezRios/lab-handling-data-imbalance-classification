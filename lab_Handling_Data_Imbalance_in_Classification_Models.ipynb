{
 "cells": [
  {
   "cell_type": "code",
   "execution_count": 21,
   "metadata": {
    "executionInfo": {
     "elapsed": 2587,
     "status": "ok",
     "timestamp": 1614776765673,
     "user": {
      "displayName": "Ignacio Soteras",
      "photoUrl": "",
      "userId": "02050793736257155229"
     },
     "user_tz": -60
    },
    "id": "obMU7Q1KqUs1"
   },
   "outputs": [],
   "source": [
    "import pandas as pd\n",
    "import numpy as np\n",
    "import statsmodels.api as sm\n",
    "from sklearn import preprocessing\n",
    "from sklearn.model_selection import train_test_split\n",
    "from sklearn.linear_model import LogisticRegression\n",
    "from sklearn.metrics import classification_report"
   ]
  },
  {
   "cell_type": "code",
   "execution_count": 2,
   "metadata": {},
   "outputs": [],
   "source": [
    "#check datatypes\n",
    "def check_dtypes2(dataframe):\n",
    "    test =dataframe.dtypes\n",
    "    x=0\n",
    "    for i in range (len(dataframe.columns)):\n",
    "        print(\"COL NAME: \",dataframe.columns[i])\n",
    "        print(\"  TYPE: \",test[x])\n",
    "        print(\"  % OF UNIQUE VALUES: \", (len(pd.unique(dataframe[dataframe.columns[i]]))/len(dataframe[dataframe.columns[i]]))*100 )\n",
    "        print(\"  Values: \",pd.unique(dataframe[dataframe.columns[i]]))\n",
    "        print(\"  SAMPLE: \",dataframe.iloc[0][dataframe.columns[i]])\n",
    "        print()\n",
    "        x+=1\n",
    "    return()\n",
    "#dealing with null values\n",
    "\n",
    "#null values info\n",
    "def null_find(dataframe):\n",
    "    null_df = pd.DataFrame(round(dataframe.isna().sum()/len(dataframe),4)*100)\n",
    "    null_df = null_df.reset_index()\n",
    "    null_df.columns = ['header','percentage_nulls']\n",
    "    return(null_df)\n",
    "           \n",
    "#null values reduction\n",
    "def null_reduction(dataframe,porcentage):\n",
    "    null_df=null_find(dataframe)\n",
    "    columns_drop = null_df[null_df['percentage_nulls']>porcentage]['header']\n",
    "    return dataframe.drop(columns_drop,axis=1)\n",
    "\n",
    "# print non zero null columns\n",
    "\n",
    "def print_nan(dataframe):\n",
    "    null_df = null_find(dataframe)\n",
    "    null_df = null_df[null_df['percentage_nulls']>0]\n",
    "    print(null_df)\n",
    "    return()\n",
    "\n",
    "\n",
    "#scaler\n",
    "def scaleColumns(df, cols_to_scale):\n",
    "    scaler = preprocessing.StandardScaler()\n",
    "\n",
    "    for col in cols_to_scale:\n",
    "        df[col] = pd.DataFrame(scaler.fit_transform(pd.DataFrame(df[col])),columns=[col])\n",
    "    return df\n"
   ]
  },
  {
   "cell_type": "markdown",
   "metadata": {},
   "source": [
    "Read that data into Python and call the dataframe churnData."
   ]
  },
  {
   "cell_type": "code",
   "execution_count": 3,
   "metadata": {
    "colab": {
     "base_uri": "https://localhost:8080/"
    },
    "executionInfo": {
     "elapsed": 3671,
     "status": "ok",
     "timestamp": 1605712644894,
     "user": {
      "displayName": "Ignacio Soteras",
      "photoUrl": "",
      "userId": "02050793736257155229"
     },
     "user_tz": -60
    },
    "id": "YUsR5xP2wIPe",
    "outputId": "7ff17e1b-b84f-4672-841e-703bcf318955",
    "scrolled": false
   },
   "outputs": [
    {
     "data": {
      "text/html": [
       "<div>\n",
       "<style scoped>\n",
       "    .dataframe tbody tr th:only-of-type {\n",
       "        vertical-align: middle;\n",
       "    }\n",
       "\n",
       "    .dataframe tbody tr th {\n",
       "        vertical-align: top;\n",
       "    }\n",
       "\n",
       "    .dataframe thead th {\n",
       "        text-align: right;\n",
       "    }\n",
       "</style>\n",
       "<table border=\"1\" class=\"dataframe\">\n",
       "  <thead>\n",
       "    <tr style=\"text-align: right;\">\n",
       "      <th></th>\n",
       "      <th>gender</th>\n",
       "      <th>SeniorCitizen</th>\n",
       "      <th>Partner</th>\n",
       "      <th>Dependents</th>\n",
       "      <th>tenure</th>\n",
       "      <th>PhoneService</th>\n",
       "      <th>OnlineSecurity</th>\n",
       "      <th>OnlineBackup</th>\n",
       "      <th>DeviceProtection</th>\n",
       "      <th>TechSupport</th>\n",
       "      <th>StreamingTV</th>\n",
       "      <th>StreamingMovies</th>\n",
       "      <th>Contract</th>\n",
       "      <th>MonthlyCharges</th>\n",
       "      <th>TotalCharges</th>\n",
       "      <th>Churn</th>\n",
       "    </tr>\n",
       "  </thead>\n",
       "  <tbody>\n",
       "    <tr>\n",
       "      <th>0</th>\n",
       "      <td>Female</td>\n",
       "      <td>0</td>\n",
       "      <td>Yes</td>\n",
       "      <td>No</td>\n",
       "      <td>1</td>\n",
       "      <td>No</td>\n",
       "      <td>No</td>\n",
       "      <td>Yes</td>\n",
       "      <td>No</td>\n",
       "      <td>No</td>\n",
       "      <td>No</td>\n",
       "      <td>No</td>\n",
       "      <td>Month-to-month</td>\n",
       "      <td>29.85</td>\n",
       "      <td>29.85</td>\n",
       "      <td>No</td>\n",
       "    </tr>\n",
       "    <tr>\n",
       "      <th>1</th>\n",
       "      <td>Male</td>\n",
       "      <td>0</td>\n",
       "      <td>No</td>\n",
       "      <td>No</td>\n",
       "      <td>34</td>\n",
       "      <td>Yes</td>\n",
       "      <td>Yes</td>\n",
       "      <td>No</td>\n",
       "      <td>Yes</td>\n",
       "      <td>No</td>\n",
       "      <td>No</td>\n",
       "      <td>No</td>\n",
       "      <td>One year</td>\n",
       "      <td>56.95</td>\n",
       "      <td>1889.5</td>\n",
       "      <td>No</td>\n",
       "    </tr>\n",
       "    <tr>\n",
       "      <th>2</th>\n",
       "      <td>Male</td>\n",
       "      <td>0</td>\n",
       "      <td>No</td>\n",
       "      <td>No</td>\n",
       "      <td>2</td>\n",
       "      <td>Yes</td>\n",
       "      <td>Yes</td>\n",
       "      <td>Yes</td>\n",
       "      <td>No</td>\n",
       "      <td>No</td>\n",
       "      <td>No</td>\n",
       "      <td>No</td>\n",
       "      <td>Month-to-month</td>\n",
       "      <td>53.85</td>\n",
       "      <td>108.15</td>\n",
       "      <td>Yes</td>\n",
       "    </tr>\n",
       "    <tr>\n",
       "      <th>3</th>\n",
       "      <td>Male</td>\n",
       "      <td>0</td>\n",
       "      <td>No</td>\n",
       "      <td>No</td>\n",
       "      <td>45</td>\n",
       "      <td>No</td>\n",
       "      <td>Yes</td>\n",
       "      <td>No</td>\n",
       "      <td>Yes</td>\n",
       "      <td>Yes</td>\n",
       "      <td>No</td>\n",
       "      <td>No</td>\n",
       "      <td>One year</td>\n",
       "      <td>42.30</td>\n",
       "      <td>1840.75</td>\n",
       "      <td>No</td>\n",
       "    </tr>\n",
       "    <tr>\n",
       "      <th>4</th>\n",
       "      <td>Female</td>\n",
       "      <td>0</td>\n",
       "      <td>No</td>\n",
       "      <td>No</td>\n",
       "      <td>2</td>\n",
       "      <td>Yes</td>\n",
       "      <td>No</td>\n",
       "      <td>No</td>\n",
       "      <td>No</td>\n",
       "      <td>No</td>\n",
       "      <td>No</td>\n",
       "      <td>No</td>\n",
       "      <td>Month-to-month</td>\n",
       "      <td>70.70</td>\n",
       "      <td>151.65</td>\n",
       "      <td>Yes</td>\n",
       "    </tr>\n",
       "  </tbody>\n",
       "</table>\n",
       "</div>"
      ],
      "text/plain": [
       "   gender  SeniorCitizen Partner Dependents  tenure PhoneService  \\\n",
       "0  Female              0     Yes         No       1           No   \n",
       "1    Male              0      No         No      34          Yes   \n",
       "2    Male              0      No         No       2          Yes   \n",
       "3    Male              0      No         No      45           No   \n",
       "4  Female              0      No         No       2          Yes   \n",
       "\n",
       "  OnlineSecurity OnlineBackup DeviceProtection TechSupport StreamingTV  \\\n",
       "0             No          Yes               No          No          No   \n",
       "1            Yes           No              Yes          No          No   \n",
       "2            Yes          Yes               No          No          No   \n",
       "3            Yes           No              Yes         Yes          No   \n",
       "4             No           No               No          No          No   \n",
       "\n",
       "  StreamingMovies        Contract  MonthlyCharges TotalCharges Churn  \n",
       "0              No  Month-to-month           29.85        29.85    No  \n",
       "1              No        One year           56.95       1889.5    No  \n",
       "2              No  Month-to-month           53.85       108.15   Yes  \n",
       "3              No        One year           42.30      1840.75    No  \n",
       "4              No  Month-to-month           70.70       151.65   Yes  "
      ]
     },
     "execution_count": 3,
     "metadata": {},
     "output_type": "execute_result"
    }
   ],
   "source": [
    "churnData = pd.read_csv('./files_for_lab/Customer-Churn.csv')\n",
    "churnData.head()"
   ]
  },
  {
   "cell_type": "markdown",
   "metadata": {},
   "source": [
    "Check the datatypes of all the columns in the data. You would see that the column TotalCharges is object type. Convert this column into numeric type using pd.to_numeric function."
   ]
  },
  {
   "cell_type": "code",
   "execution_count": 4,
   "metadata": {
    "scrolled": true
   },
   "outputs": [
    {
     "name": "stdout",
     "output_type": "stream",
     "text": [
      "COL NAME:  gender\n",
      "  TYPE:  object\n",
      "  % OF UNIQUE VALUES:  0.02839698991906858\n",
      "  Values:  ['Female' 'Male']\n",
      "  SAMPLE:  Female\n",
      "\n",
      "COL NAME:  SeniorCitizen\n",
      "  TYPE:  int64\n",
      "  % OF UNIQUE VALUES:  0.02839698991906858\n",
      "  Values:  [0 1]\n",
      "  SAMPLE:  0\n",
      "\n",
      "COL NAME:  Partner\n",
      "  TYPE:  object\n",
      "  % OF UNIQUE VALUES:  0.02839698991906858\n",
      "  Values:  ['Yes' 'No']\n",
      "  SAMPLE:  Yes\n",
      "\n",
      "COL NAME:  Dependents\n",
      "  TYPE:  object\n",
      "  % OF UNIQUE VALUES:  0.02839698991906858\n",
      "  Values:  ['No' 'Yes']\n",
      "  SAMPLE:  No\n",
      "\n",
      "COL NAME:  tenure\n",
      "  TYPE:  int64\n",
      "  % OF UNIQUE VALUES:  1.0364901320460032\n",
      "  Values:  [ 1 34  2 45  8 22 10 28 62 13 16 58 49 25 69 52 71 21 12 30 47 72 17 27\n",
      "  5 46 11 70 63 43 15 60 18 66  9  3 31 50 64 56  7 42 35 48 29 65 38 68\n",
      " 32 55 37 36 41  6  4 33 67 23 57 61 14 20 53 40 59 24 44 19 54 51 26  0\n",
      " 39]\n",
      "  SAMPLE:  1\n",
      "\n",
      "COL NAME:  PhoneService\n",
      "  TYPE:  object\n",
      "  % OF UNIQUE VALUES:  0.02839698991906858\n",
      "  Values:  ['No' 'Yes']\n",
      "  SAMPLE:  No\n",
      "\n",
      "COL NAME:  OnlineSecurity\n",
      "  TYPE:  object\n",
      "  % OF UNIQUE VALUES:  0.04259548487860287\n",
      "  Values:  ['No' 'Yes' 'No internet service']\n",
      "  SAMPLE:  No\n",
      "\n",
      "COL NAME:  OnlineBackup\n",
      "  TYPE:  object\n",
      "  % OF UNIQUE VALUES:  0.04259548487860287\n",
      "  Values:  ['Yes' 'No' 'No internet service']\n",
      "  SAMPLE:  Yes\n",
      "\n",
      "COL NAME:  DeviceProtection\n",
      "  TYPE:  object\n",
      "  % OF UNIQUE VALUES:  0.04259548487860287\n",
      "  Values:  ['No' 'Yes' 'No internet service']\n",
      "  SAMPLE:  No\n",
      "\n",
      "COL NAME:  TechSupport\n",
      "  TYPE:  object\n",
      "  % OF UNIQUE VALUES:  0.04259548487860287\n",
      "  Values:  ['No' 'Yes' 'No internet service']\n",
      "  SAMPLE:  No\n",
      "\n",
      "COL NAME:  StreamingTV\n",
      "  TYPE:  object\n",
      "  % OF UNIQUE VALUES:  0.04259548487860287\n",
      "  Values:  ['No' 'Yes' 'No internet service']\n",
      "  SAMPLE:  No\n",
      "\n",
      "COL NAME:  StreamingMovies\n",
      "  TYPE:  object\n",
      "  % OF UNIQUE VALUES:  0.04259548487860287\n",
      "  Values:  ['No' 'Yes' 'No internet service']\n",
      "  SAMPLE:  No\n",
      "\n",
      "COL NAME:  Contract\n",
      "  TYPE:  object\n",
      "  % OF UNIQUE VALUES:  0.04259548487860287\n",
      "  Values:  ['Month-to-month' 'One year' 'Two year']\n",
      "  SAMPLE:  Month-to-month\n",
      "\n",
      "COL NAME:  MonthlyCharges\n",
      "  TYPE:  float64\n",
      "  % OF UNIQUE VALUES:  22.50461451086185\n",
      "  Values:  [29.85 56.95 53.85 ... 63.1  44.2  78.7 ]\n",
      "  SAMPLE:  29.85\n",
      "\n",
      "COL NAME:  TotalCharges\n",
      "  TYPE:  object\n",
      "  % OF UNIQUE VALUES:  92.73037058071844\n",
      "  Values:  ['29.85' '1889.5' '108.15' ... '346.45' '306.6' '6844.5']\n",
      "  SAMPLE:  29.85\n",
      "\n",
      "COL NAME:  Churn\n",
      "  TYPE:  object\n",
      "  % OF UNIQUE VALUES:  0.02839698991906858\n",
      "  Values:  ['No' 'Yes']\n",
      "  SAMPLE:  No\n",
      "\n"
     ]
    },
    {
     "data": {
      "text/plain": [
       "()"
      ]
     },
     "execution_count": 4,
     "metadata": {},
     "output_type": "execute_result"
    }
   ],
   "source": [
    "check_dtypes2(churnData)"
   ]
  },
  {
   "cell_type": "code",
   "execution_count": 5,
   "metadata": {},
   "outputs": [],
   "source": [
    "churnData['TotalCharges']= pd.to_numeric(churnData['TotalCharges'], errors='coerce')"
   ]
  },
  {
   "cell_type": "code",
   "execution_count": 6,
   "metadata": {},
   "outputs": [
    {
     "name": "stdout",
     "output_type": "stream",
     "text": [
      "COL NAME:  gender\n",
      "  TYPE:  object\n",
      "  % OF UNIQUE VALUES:  0.02839698991906858\n",
      "  Values:  ['Female' 'Male']\n",
      "  SAMPLE:  Female\n",
      "\n",
      "COL NAME:  SeniorCitizen\n",
      "  TYPE:  int64\n",
      "  % OF UNIQUE VALUES:  0.02839698991906858\n",
      "  Values:  [0 1]\n",
      "  SAMPLE:  0\n",
      "\n",
      "COL NAME:  Partner\n",
      "  TYPE:  object\n",
      "  % OF UNIQUE VALUES:  0.02839698991906858\n",
      "  Values:  ['Yes' 'No']\n",
      "  SAMPLE:  Yes\n",
      "\n",
      "COL NAME:  Dependents\n",
      "  TYPE:  object\n",
      "  % OF UNIQUE VALUES:  0.02839698991906858\n",
      "  Values:  ['No' 'Yes']\n",
      "  SAMPLE:  No\n",
      "\n",
      "COL NAME:  tenure\n",
      "  TYPE:  int64\n",
      "  % OF UNIQUE VALUES:  1.0364901320460032\n",
      "  Values:  [ 1 34  2 45  8 22 10 28 62 13 16 58 49 25 69 52 71 21 12 30 47 72 17 27\n",
      "  5 46 11 70 63 43 15 60 18 66  9  3 31 50 64 56  7 42 35 48 29 65 38 68\n",
      " 32 55 37 36 41  6  4 33 67 23 57 61 14 20 53 40 59 24 44 19 54 51 26  0\n",
      " 39]\n",
      "  SAMPLE:  1\n",
      "\n",
      "COL NAME:  PhoneService\n",
      "  TYPE:  object\n",
      "  % OF UNIQUE VALUES:  0.02839698991906858\n",
      "  Values:  ['No' 'Yes']\n",
      "  SAMPLE:  No\n",
      "\n",
      "COL NAME:  OnlineSecurity\n",
      "  TYPE:  object\n",
      "  % OF UNIQUE VALUES:  0.04259548487860287\n",
      "  Values:  ['No' 'Yes' 'No internet service']\n",
      "  SAMPLE:  No\n",
      "\n",
      "COL NAME:  OnlineBackup\n",
      "  TYPE:  object\n",
      "  % OF UNIQUE VALUES:  0.04259548487860287\n",
      "  Values:  ['Yes' 'No' 'No internet service']\n",
      "  SAMPLE:  Yes\n",
      "\n",
      "COL NAME:  DeviceProtection\n",
      "  TYPE:  object\n",
      "  % OF UNIQUE VALUES:  0.04259548487860287\n",
      "  Values:  ['No' 'Yes' 'No internet service']\n",
      "  SAMPLE:  No\n",
      "\n",
      "COL NAME:  TechSupport\n",
      "  TYPE:  object\n",
      "  % OF UNIQUE VALUES:  0.04259548487860287\n",
      "  Values:  ['No' 'Yes' 'No internet service']\n",
      "  SAMPLE:  No\n",
      "\n",
      "COL NAME:  StreamingTV\n",
      "  TYPE:  object\n",
      "  % OF UNIQUE VALUES:  0.04259548487860287\n",
      "  Values:  ['No' 'Yes' 'No internet service']\n",
      "  SAMPLE:  No\n",
      "\n",
      "COL NAME:  StreamingMovies\n",
      "  TYPE:  object\n",
      "  % OF UNIQUE VALUES:  0.04259548487860287\n",
      "  Values:  ['No' 'Yes' 'No internet service']\n",
      "  SAMPLE:  No\n",
      "\n",
      "COL NAME:  Contract\n",
      "  TYPE:  object\n",
      "  % OF UNIQUE VALUES:  0.04259548487860287\n",
      "  Values:  ['Month-to-month' 'One year' 'Two year']\n",
      "  SAMPLE:  Month-to-month\n",
      "\n",
      "COL NAME:  MonthlyCharges\n",
      "  TYPE:  float64\n",
      "  % OF UNIQUE VALUES:  22.50461451086185\n",
      "  Values:  [29.85 56.95 53.85 ... 63.1  44.2  78.7 ]\n",
      "  SAMPLE:  29.85\n",
      "\n",
      "COL NAME:  TotalCharges\n",
      "  TYPE:  float64\n",
      "  % OF UNIQUE VALUES:  92.73037058071844\n",
      "  Values:  [  29.85 1889.5   108.15 ...  346.45  306.6  6844.5 ]\n",
      "  SAMPLE:  29.85\n",
      "\n",
      "COL NAME:  Churn\n",
      "  TYPE:  object\n",
      "  % OF UNIQUE VALUES:  0.02839698991906858\n",
      "  Values:  ['No' 'Yes']\n",
      "  SAMPLE:  No\n",
      "\n"
     ]
    },
    {
     "data": {
      "text/plain": [
       "()"
      ]
     },
     "execution_count": 6,
     "metadata": {},
     "output_type": "execute_result"
    }
   ],
   "source": [
    "check_dtypes2(churnData)"
   ]
  },
  {
   "cell_type": "markdown",
   "metadata": {
    "id": "0_2o3gEly8Fh"
   },
   "source": [
    "Check for null values in the dataframe. Replace the null values."
   ]
  },
  {
   "cell_type": "code",
   "execution_count": 7,
   "metadata": {},
   "outputs": [
    {
     "data": {
      "text/html": [
       "<div>\n",
       "<style scoped>\n",
       "    .dataframe tbody tr th:only-of-type {\n",
       "        vertical-align: middle;\n",
       "    }\n",
       "\n",
       "    .dataframe tbody tr th {\n",
       "        vertical-align: top;\n",
       "    }\n",
       "\n",
       "    .dataframe thead th {\n",
       "        text-align: right;\n",
       "    }\n",
       "</style>\n",
       "<table border=\"1\" class=\"dataframe\">\n",
       "  <thead>\n",
       "    <tr style=\"text-align: right;\">\n",
       "      <th></th>\n",
       "      <th>header</th>\n",
       "      <th>percentage_nulls</th>\n",
       "    </tr>\n",
       "  </thead>\n",
       "  <tbody>\n",
       "    <tr>\n",
       "      <th>0</th>\n",
       "      <td>gender</td>\n",
       "      <td>0.00</td>\n",
       "    </tr>\n",
       "    <tr>\n",
       "      <th>1</th>\n",
       "      <td>SeniorCitizen</td>\n",
       "      <td>0.00</td>\n",
       "    </tr>\n",
       "    <tr>\n",
       "      <th>2</th>\n",
       "      <td>Partner</td>\n",
       "      <td>0.00</td>\n",
       "    </tr>\n",
       "    <tr>\n",
       "      <th>3</th>\n",
       "      <td>Dependents</td>\n",
       "      <td>0.00</td>\n",
       "    </tr>\n",
       "    <tr>\n",
       "      <th>4</th>\n",
       "      <td>tenure</td>\n",
       "      <td>0.00</td>\n",
       "    </tr>\n",
       "    <tr>\n",
       "      <th>5</th>\n",
       "      <td>PhoneService</td>\n",
       "      <td>0.00</td>\n",
       "    </tr>\n",
       "    <tr>\n",
       "      <th>6</th>\n",
       "      <td>OnlineSecurity</td>\n",
       "      <td>0.00</td>\n",
       "    </tr>\n",
       "    <tr>\n",
       "      <th>7</th>\n",
       "      <td>OnlineBackup</td>\n",
       "      <td>0.00</td>\n",
       "    </tr>\n",
       "    <tr>\n",
       "      <th>8</th>\n",
       "      <td>DeviceProtection</td>\n",
       "      <td>0.00</td>\n",
       "    </tr>\n",
       "    <tr>\n",
       "      <th>9</th>\n",
       "      <td>TechSupport</td>\n",
       "      <td>0.00</td>\n",
       "    </tr>\n",
       "    <tr>\n",
       "      <th>10</th>\n",
       "      <td>StreamingTV</td>\n",
       "      <td>0.00</td>\n",
       "    </tr>\n",
       "    <tr>\n",
       "      <th>11</th>\n",
       "      <td>StreamingMovies</td>\n",
       "      <td>0.00</td>\n",
       "    </tr>\n",
       "    <tr>\n",
       "      <th>12</th>\n",
       "      <td>Contract</td>\n",
       "      <td>0.00</td>\n",
       "    </tr>\n",
       "    <tr>\n",
       "      <th>13</th>\n",
       "      <td>MonthlyCharges</td>\n",
       "      <td>0.00</td>\n",
       "    </tr>\n",
       "    <tr>\n",
       "      <th>14</th>\n",
       "      <td>TotalCharges</td>\n",
       "      <td>0.16</td>\n",
       "    </tr>\n",
       "    <tr>\n",
       "      <th>15</th>\n",
       "      <td>Churn</td>\n",
       "      <td>0.00</td>\n",
       "    </tr>\n",
       "  </tbody>\n",
       "</table>\n",
       "</div>"
      ],
      "text/plain": [
       "              header  percentage_nulls\n",
       "0             gender              0.00\n",
       "1      SeniorCitizen              0.00\n",
       "2            Partner              0.00\n",
       "3         Dependents              0.00\n",
       "4             tenure              0.00\n",
       "5       PhoneService              0.00\n",
       "6     OnlineSecurity              0.00\n",
       "7       OnlineBackup              0.00\n",
       "8   DeviceProtection              0.00\n",
       "9        TechSupport              0.00\n",
       "10       StreamingTV              0.00\n",
       "11   StreamingMovies              0.00\n",
       "12          Contract              0.00\n",
       "13    MonthlyCharges              0.00\n",
       "14      TotalCharges              0.16\n",
       "15             Churn              0.00"
      ]
     },
     "execution_count": 7,
     "metadata": {},
     "output_type": "execute_result"
    }
   ],
   "source": [
    "null_find(churnData)"
   ]
  },
  {
   "cell_type": "code",
   "execution_count": 8,
   "metadata": {},
   "outputs": [],
   "source": [
    "churnData.dropna(subset=['TotalCharges'], inplace = True)"
   ]
  },
  {
   "cell_type": "code",
   "execution_count": 9,
   "metadata": {},
   "outputs": [],
   "source": [
    "churnData.reset_index(drop=True, inplace = True)"
   ]
  },
  {
   "cell_type": "code",
   "execution_count": 10,
   "metadata": {},
   "outputs": [
    {
     "data": {
      "text/html": [
       "<div>\n",
       "<style scoped>\n",
       "    .dataframe tbody tr th:only-of-type {\n",
       "        vertical-align: middle;\n",
       "    }\n",
       "\n",
       "    .dataframe tbody tr th {\n",
       "        vertical-align: top;\n",
       "    }\n",
       "\n",
       "    .dataframe thead th {\n",
       "        text-align: right;\n",
       "    }\n",
       "</style>\n",
       "<table border=\"1\" class=\"dataframe\">\n",
       "  <thead>\n",
       "    <tr style=\"text-align: right;\">\n",
       "      <th></th>\n",
       "      <th>header</th>\n",
       "      <th>percentage_nulls</th>\n",
       "    </tr>\n",
       "  </thead>\n",
       "  <tbody>\n",
       "    <tr>\n",
       "      <th>0</th>\n",
       "      <td>gender</td>\n",
       "      <td>0.0</td>\n",
       "    </tr>\n",
       "    <tr>\n",
       "      <th>1</th>\n",
       "      <td>SeniorCitizen</td>\n",
       "      <td>0.0</td>\n",
       "    </tr>\n",
       "    <tr>\n",
       "      <th>2</th>\n",
       "      <td>Partner</td>\n",
       "      <td>0.0</td>\n",
       "    </tr>\n",
       "    <tr>\n",
       "      <th>3</th>\n",
       "      <td>Dependents</td>\n",
       "      <td>0.0</td>\n",
       "    </tr>\n",
       "    <tr>\n",
       "      <th>4</th>\n",
       "      <td>tenure</td>\n",
       "      <td>0.0</td>\n",
       "    </tr>\n",
       "    <tr>\n",
       "      <th>5</th>\n",
       "      <td>PhoneService</td>\n",
       "      <td>0.0</td>\n",
       "    </tr>\n",
       "    <tr>\n",
       "      <th>6</th>\n",
       "      <td>OnlineSecurity</td>\n",
       "      <td>0.0</td>\n",
       "    </tr>\n",
       "    <tr>\n",
       "      <th>7</th>\n",
       "      <td>OnlineBackup</td>\n",
       "      <td>0.0</td>\n",
       "    </tr>\n",
       "    <tr>\n",
       "      <th>8</th>\n",
       "      <td>DeviceProtection</td>\n",
       "      <td>0.0</td>\n",
       "    </tr>\n",
       "    <tr>\n",
       "      <th>9</th>\n",
       "      <td>TechSupport</td>\n",
       "      <td>0.0</td>\n",
       "    </tr>\n",
       "    <tr>\n",
       "      <th>10</th>\n",
       "      <td>StreamingTV</td>\n",
       "      <td>0.0</td>\n",
       "    </tr>\n",
       "    <tr>\n",
       "      <th>11</th>\n",
       "      <td>StreamingMovies</td>\n",
       "      <td>0.0</td>\n",
       "    </tr>\n",
       "    <tr>\n",
       "      <th>12</th>\n",
       "      <td>Contract</td>\n",
       "      <td>0.0</td>\n",
       "    </tr>\n",
       "    <tr>\n",
       "      <th>13</th>\n",
       "      <td>MonthlyCharges</td>\n",
       "      <td>0.0</td>\n",
       "    </tr>\n",
       "    <tr>\n",
       "      <th>14</th>\n",
       "      <td>TotalCharges</td>\n",
       "      <td>0.0</td>\n",
       "    </tr>\n",
       "    <tr>\n",
       "      <th>15</th>\n",
       "      <td>Churn</td>\n",
       "      <td>0.0</td>\n",
       "    </tr>\n",
       "  </tbody>\n",
       "</table>\n",
       "</div>"
      ],
      "text/plain": [
       "              header  percentage_nulls\n",
       "0             gender               0.0\n",
       "1      SeniorCitizen               0.0\n",
       "2            Partner               0.0\n",
       "3         Dependents               0.0\n",
       "4             tenure               0.0\n",
       "5       PhoneService               0.0\n",
       "6     OnlineSecurity               0.0\n",
       "7       OnlineBackup               0.0\n",
       "8   DeviceProtection               0.0\n",
       "9        TechSupport               0.0\n",
       "10       StreamingTV               0.0\n",
       "11   StreamingMovies               0.0\n",
       "12          Contract               0.0\n",
       "13    MonthlyCharges               0.0\n",
       "14      TotalCharges               0.0\n",
       "15             Churn               0.0"
      ]
     },
     "execution_count": 10,
     "metadata": {},
     "output_type": "execute_result"
    }
   ],
   "source": [
    "null_find(churnData)"
   ]
  },
  {
   "cell_type": "markdown",
   "metadata": {},
   "source": [
    "Use the following features: tenure, SeniorCitizen, MonthlyCharges and TotalCharges:\n",
    "\n",
    "    Scale the features either by using normalizer or a standard scaler."
   ]
  },
  {
   "cell_type": "code",
   "execution_count": 11,
   "metadata": {},
   "outputs": [],
   "source": [
    "churnData = scaleColumns(churnData, ['SeniorCitizen','MonthlyCharges','TotalCharges'])\n"
   ]
  },
  {
   "cell_type": "code",
   "execution_count": 12,
   "metadata": {
    "scrolled": true
   },
   "outputs": [
    {
     "data": {
      "text/plain": [
       "0      -0.440327\n",
       "1      -0.440327\n",
       "2      -0.440327\n",
       "3      -0.440327\n",
       "4      -0.440327\n",
       "          ...   \n",
       "7027   -0.440327\n",
       "7028   -0.440327\n",
       "7029   -0.440327\n",
       "7030    2.271039\n",
       "7031   -0.440327\n",
       "Name: SeniorCitizen, Length: 7032, dtype: float64"
      ]
     },
     "execution_count": 12,
     "metadata": {},
     "output_type": "execute_result"
    }
   ],
   "source": [
    "churnData.SeniorCitizen"
   ]
  },
  {
   "cell_type": "markdown",
   "metadata": {},
   "source": [
    "Split the data into a training set and a test set."
   ]
  },
  {
   "cell_type": "code",
   "execution_count": 18,
   "metadata": {},
   "outputs": [],
   "source": [
    "Xf=churnData.drop(['Churn'], axis=1)\n",
    "yf=churnData['Churn']\n",
    "Xf_num=Xf.select_dtypes(include = np.number)\n",
    "Xf_cat = pd.get_dummies(Xf.select_dtypes(include = 'object'), drop_first=True)\n",
    "Xf=pd.concat([Xf_num, Xf_cat], axis=1) \n",
    "\n",
    "    \n",
    "X_train, X_test, y_train, y_test = train_test_split(Xf, yf, test_size=0.3, random_state=42)\n",
    "\n",
    "\n",
    "\n",
    "\n"
   ]
  },
  {
   "cell_type": "markdown",
   "metadata": {},
   "source": [
    "Fit a logistic regression model on the training data."
   ]
  },
  {
   "cell_type": "code",
   "execution_count": 23,
   "metadata": {},
   "outputs": [
    {
     "data": {
      "text/plain": [
       "LogisticRegression()"
      ]
     },
     "execution_count": 23,
     "metadata": {},
     "output_type": "execute_result"
    }
   ],
   "source": [
    "model = LogisticRegression()\n",
    "model.fit( X_train, y_train )\n"
   ]
  },
  {
   "cell_type": "code",
   "execution_count": 24,
   "metadata": {},
   "outputs": [],
   "source": [
    "predicted = model.predict(X_test)"
   ]
  },
  {
   "cell_type": "markdown",
   "metadata": {},
   "source": [
    "Check the accuracy on the test data."
   ]
  },
  {
   "cell_type": "code",
   "execution_count": 28,
   "metadata": {},
   "outputs": [
    {
     "name": "stdout",
     "output_type": "stream",
     "text": [
      "              precision    recall  f1-score   support\n",
      "\n",
      "          No       0.84      0.89      0.86      1549\n",
      "         Yes       0.63      0.52      0.57       561\n",
      "\n",
      "    accuracy                           0.79      2110\n",
      "   macro avg       0.73      0.71      0.72      2110\n",
      "weighted avg       0.78      0.79      0.78      2110\n",
      "\n"
     ]
    }
   ],
   "source": [
    "print(classification_report(y_test, predicted))"
   ]
  },
  {
   "cell_type": "markdown",
   "metadata": {},
   "source": [
    "# Managing imbalance in the dataset\n",
    "\n",
    "    Check for the imbalance."
   ]
  },
  {
   "cell_type": "code",
   "execution_count": 29,
   "metadata": {},
   "outputs": [
    {
     "data": {
      "text/plain": [
       "No     5163\n",
       "Yes    1869\n",
       "Name: Churn, dtype: int64"
      ]
     },
     "execution_count": 29,
     "metadata": {},
     "output_type": "execute_result"
    }
   ],
   "source": [
    "churnData['Churn'].value_counts()"
   ]
  },
  {
   "cell_type": "markdown",
   "metadata": {},
   "source": [
    "Use the resampling strategies used in class for upsampling and downsampling to create a balance between the two classes."
   ]
  },
  {
   "cell_type": "markdown",
   "metadata": {
    "id": "cqwG44OkDZSw"
   },
   "source": [
    "## Downsampling"
   ]
  },
  {
   "cell_type": "code",
   "execution_count": 35,
   "metadata": {
    "colab": {
     "base_uri": "https://localhost:8080/"
    },
    "executionInfo": {
     "elapsed": 1198,
     "status": "ok",
     "timestamp": 1605710292498,
     "user": {
      "displayName": "Ignacio Soteras",
      "photoUrl": "",
      "userId": "02050793736257155229"
     },
     "user_tz": -60
    },
    "id": "IueSkAJRDYfY",
    "outputId": "98caeb56-8247-4065-910f-aa84b7d03db8",
    "scrolled": true
   },
   "outputs": [
    {
     "name": "stdout",
     "output_type": "stream",
     "text": [
      "(1869, 16)\n",
      "(1869, 16)\n"
     ]
    },
    {
     "data": {
      "text/plain": [
       "No     1869\n",
       "Yes    1869\n",
       "Name: Churn, dtype: int64"
      ]
     },
     "execution_count": 35,
     "metadata": {},
     "output_type": "execute_result"
    }
   ],
   "source": [
    "\n",
    "category_0 = churnData[churnData['Churn'] == 'No']\n",
    "category_1 = churnData[churnData['Churn'] == 'Yes']\n",
    "\n",
    "# We pick a random sample of rows from of observations belonging to \"category_0\"\n",
    "# in the same amount of observations belonging to \"category_1\"\n",
    "category_0 = category_0.sample(len(category_1))\n",
    "print(category_0.shape)\n",
    "print(category_1.shape)\n",
    "\n",
    "data = pd.concat([category_0, category_1], axis=0)\n",
    "#shuffling the data\n",
    "data = data.sample(frac=1)\n",
    "data['Churn'].value_counts()"
   ]
  },
  {
   "cell_type": "code",
   "execution_count": 36,
   "metadata": {},
   "outputs": [
    {
     "name": "stdout",
     "output_type": "stream",
     "text": [
      "              precision    recall  f1-score   support\n",
      "\n",
      "          No       0.81      0.71      0.76       585\n",
      "         Yes       0.72      0.82      0.77       537\n",
      "\n",
      "    accuracy                           0.76      1122\n",
      "   macro avg       0.77      0.77      0.76      1122\n",
      "weighted avg       0.77      0.76      0.76      1122\n",
      "\n"
     ]
    }
   ],
   "source": [
    "Xf=data.drop(['Churn'], axis=1)\n",
    "yf=data['Churn']\n",
    "Xf_num=Xf.select_dtypes(include = np.number)\n",
    "Xf_cat = pd.get_dummies(Xf.select_dtypes(include = 'object'), drop_first=True)\n",
    "Xf=pd.concat([Xf_num, Xf_cat], axis=1) \n",
    "\n",
    "    \n",
    "X_train, X_test, y_train, y_test = train_test_split(Xf, yf, test_size=0.3, random_state=42)\n",
    "model = LogisticRegression()\n",
    "model.fit( X_train, y_train )\n",
    "predicted = model.predict(X_test)\n",
    "print(classification_report(y_test, predicted))"
   ]
  },
  {
   "cell_type": "code",
   "execution_count": null,
   "metadata": {},
   "outputs": [],
   "source": []
  },
  {
   "cell_type": "code",
   "execution_count": null,
   "metadata": {},
   "outputs": [],
   "source": []
  },
  {
   "cell_type": "markdown",
   "metadata": {
    "id": "5zXWS6DJEtwH"
   },
   "source": [
    "# Upsampling"
   ]
  },
  {
   "cell_type": "code",
   "execution_count": 39,
   "metadata": {
    "colab": {
     "base_uri": "https://localhost:8080/",
     "height": 370
    },
    "executionInfo": {
     "elapsed": 802,
     "status": "error",
     "timestamp": 1605712624096,
     "user": {
      "displayName": "Ignacio Soteras",
      "photoUrl": "",
      "userId": "02050793736257155229"
     },
     "user_tz": -60
    },
    "id": "9cy9pk6oEv7Y",
    "outputId": "da5c03e4-48f8-4210-dd92-1f59f3bdaa81"
   },
   "outputs": [
    {
     "name": "stdout",
     "output_type": "stream",
     "text": [
      "(5163, 16)\n",
      "No     5163\n",
      "Yes    5163\n",
      "Name: Churn, dtype: int64\n"
     ]
    }
   ],
   "source": [
    "category_0 = churnData[churnData['Churn'] == 'No']\n",
    "category_1 = churnData[churnData['Churn'] == 'Yes']\n",
    "\n",
    "# Upsampling \n",
    "# As we are going to repeat observations, the random samples can be picked more then once,\n",
    "# threfore we need to use the keyword: replace=True\n",
    "category_1 = category_1.sample(len(category_0), replace=True)  \n",
    "print(category_1.shape)\n",
    "\n",
    "data = pd.concat([category_0, category_1], axis=0)\n",
    "#shuffling the data\n",
    "data = data.sample(frac=1)\n",
    "print(data['Churn'].value_counts())"
   ]
  },
  {
   "cell_type": "code",
   "execution_count": 40,
   "metadata": {},
   "outputs": [
    {
     "name": "stdout",
     "output_type": "stream",
     "text": [
      "              precision    recall  f1-score   support\n",
      "\n",
      "          No       0.79      0.71      0.75      1548\n",
      "         Yes       0.74      0.81      0.77      1550\n",
      "\n",
      "    accuracy                           0.76      3098\n",
      "   macro avg       0.76      0.76      0.76      3098\n",
      "weighted avg       0.76      0.76      0.76      3098\n",
      "\n"
     ]
    }
   ],
   "source": [
    "Xf=data.drop(['Churn'], axis=1)\n",
    "yf=data['Churn']\n",
    "Xf_num=Xf.select_dtypes(include = np.number)\n",
    "Xf_cat = pd.get_dummies(Xf.select_dtypes(include = 'object'), drop_first=True)\n",
    "Xf=pd.concat([Xf_num, Xf_cat], axis=1) \n",
    "\n",
    "    \n",
    "X_train, X_test, y_train, y_test = train_test_split(Xf, yf, test_size=0.3, random_state=42)\n",
    "model = LogisticRegression()\n",
    "model.fit( X_train, y_train )\n",
    "predicted = model.predict(X_test)\n",
    "print(classification_report(y_test, predicted))"
   ]
  },
  {
   "cell_type": "code",
   "execution_count": null,
   "metadata": {},
   "outputs": [],
   "source": []
  }
 ],
 "metadata": {
  "colab": {
   "authorship_tag": "ABX9TyNL/zxJu0e6QcfkV5A3PVS7",
   "name": "Afternoon.ipynb",
   "provenance": [],
   "toc_visible": true
  },
  "kernelspec": {
   "display_name": "Python 3 (ipykernel)",
   "language": "python",
   "name": "python3"
  },
  "language_info": {
   "codemirror_mode": {
    "name": "ipython",
    "version": 3
   },
   "file_extension": ".py",
   "mimetype": "text/x-python",
   "name": "python",
   "nbconvert_exporter": "python",
   "pygments_lexer": "ipython3",
   "version": "3.9.7"
  }
 },
 "nbformat": 4,
 "nbformat_minor": 1
}
